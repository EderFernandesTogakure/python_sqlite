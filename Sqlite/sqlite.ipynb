{
 "cells": [
  {
   "cell_type": "code",
   "execution_count": 1,
   "metadata": {},
   "outputs": [],
   "source": [
    "import sqlite3\n",
    "conn = sqlite3.connect(\"meu_banco.db\")\n",
    "cursor = conn.cursor()"
   ]
  },
  {
   "cell_type": "code",
   "execution_count": 2,
   "metadata": {},
   "outputs": [
    {
     "ename": "OperationalError",
     "evalue": "table usuario already exists",
     "output_type": "error",
     "traceback": [
      "\u001b[1;31m---------------------------------------------------------------------------\u001b[0m",
      "\u001b[1;31mOperationalError\u001b[0m                          Traceback (most recent call last)",
      "Cell \u001b[1;32mIn[2], line 2\u001b[0m\n\u001b[0;32m      1\u001b[0m \u001b[38;5;66;03m#Criando uma tabela no sqlite\u001b[39;00m\n\u001b[1;32m----> 2\u001b[0m \u001b[43mcursor\u001b[49m\u001b[38;5;241;43m.\u001b[39;49m\u001b[43mexecute\u001b[49m\u001b[43m(\u001b[49m\u001b[38;5;124;43m\"\"\"\u001b[39;49m\u001b[38;5;124;43mCREATE TABLE usuario\u001b[39;49m\n\u001b[0;32m      3\u001b[0m \u001b[38;5;124;43m               (nome text, \u001b[39;49m\n\u001b[0;32m      4\u001b[0m \u001b[38;5;124;43m                email text,\u001b[39;49m\n\u001b[0;32m      5\u001b[0m \u001b[38;5;124;43m                senha text                \u001b[39;49m\n\u001b[0;32m      6\u001b[0m \u001b[38;5;124;43m                   )\u001b[39;49m\u001b[38;5;124;43m\"\"\"\u001b[39;49m\u001b[43m)\u001b[49m\n",
      "\u001b[1;31mOperationalError\u001b[0m: table usuario already exists"
     ]
    }
   ],
   "source": [
    "#Criando uma tabela no sqlite\n",
    "cursor.execute(\"\"\"CREATE TABLE usuario\n",
    "               (nome text, \n",
    "                email text,\n",
    "                senha text                \n",
    "                   )\"\"\")"
   ]
  },
  {
   "cell_type": "code",
   "execution_count": 3,
   "metadata": {},
   "outputs": [],
   "source": [
    "#CRUD->Create, inserindo informações\n",
    "cursor.execute(\"INSERT INTO usuario(nome, email, senha) VALUES ('Carlos','carlos@calos','1234')\")\n",
    "conn.commit()"
   ]
  },
  {
   "cell_type": "code",
   "execution_count": 5,
   "metadata": {},
   "outputs": [],
   "source": [
    "#CRUD->Create, inserindo informações\n",
    "users = [('Carlos','carlos@calos','1234'),\n",
    "         ('Leticia','leticia@calos','1234'),\n",
    "         ('Jose','jose@calos','134')]\n",
    "\n",
    "cursor.executemany(\"INSERT INTO usuario(nome, email, senha) VALUES (?,?,?)\",users)\n",
    "conn.commit()"
   ]
  },
  {
   "cell_type": "code",
   "execution_count": 8,
   "metadata": {},
   "outputs": [],
   "source": [
    "#CRUD->UPDATE, Alteração de informações\n",
    "cursor.execute(\"\"\"UPDATE usuario\n",
    "               SET nome = 'Fernando',\n",
    "                   email = 'fernando@fenando'\n",
    "               WHERE nome = 'Carlos'    \n",
    "               \"\"\")\n",
    "conn.commit()"
   ]
  },
  {
   "cell_type": "code",
   "execution_count": 10,
   "metadata": {},
   "outputs": [],
   "source": [
    "#CRUD->DELETE, Exclui informações\n",
    "cursor.execute(\"\"\"DELETE FROM usuario\n",
    "                  WHERE nome = 'Fernando'    \n",
    "               \"\"\")\n",
    "conn.commit()"
   ]
  },
  {
   "cell_type": "code",
   "execution_count": 6,
   "metadata": {},
   "outputs": [
    {
     "name": "stdout",
     "output_type": "stream",
     "text": [
      "O dados gravaos do usuario são ('Leticia', 'leticia@calos', '1234')\n",
      "O dados gravaos do usuario são ('Jose', 'jose@calos', '134')\n",
      "O dados gravaos do usuario são ('Carlos', 'carlos@calos', '1234')\n",
      "O dados gravaos do usuario são ('Carlos', 'carlos@calos', '1234')\n",
      "O dados gravaos do usuario são ('Leticia', 'leticia@calos', '1234')\n",
      "O dados gravaos do usuario são ('Jose', 'jose@calos', '134')\n"
     ]
    }
   ],
   "source": [
    "#CRUD->Read, Lendo as informações\n",
    "cursor.execute(\"SELECT * FROM usuario\")\n",
    "for i in cursor.fetchall():\n",
    "    print(f'O dados gravaos do usuario são {i}')"
   ]
  },
  {
   "cell_type": "code",
   "execution_count": null,
   "metadata": {},
   "outputs": [],
   "source": [
    "usuario = input(\"Digite o nome de usuário: \")\n",
    "senha = input(\"Digite a senha: \")\n",
    "cursor.execute(\"SELECT * FROM usuario WHERE nome = ? AND senha = ?\", (usuario, senha))\n",
    "    \n",
    "if cursor.fetchone():\n",
    "    print(\"Entra no sistema\")\n",
    "    break\n",
    "else:\n",
    "    print(\"Usuário ou senha incorretos. Tente novamente.\")"
   ]
  },
  {
   "cell_type": "code",
   "execution_count": null,
   "metadata": {},
   "outputs": [],
   "source": [
    "while True:\n",
    "    usuario = input(\"Digite o nome de usuário: \")\n",
    "    senha = input(\"Digite a senha: \")\n",
    "    cursor.execute(\"SELECT * FROM usuario WHERE nome = ? AND senha = ?\", (usuario, senha))\n",
    "    \n",
    "    if cursor.fetchone():\n",
    "        print(\"Entra no sistema\")\n",
    "        break\n",
    "    else:\n",
    "        print(\"Usuário ou senha incorretos. Tente novamente.\")"
   ]
  }
 ],
 "metadata": {
  "kernelspec": {
   "display_name": "Python 3 (ipykernel)",
   "language": "python",
   "name": "python3"
  },
  "language_info": {
   "codemirror_mode": {
    "name": "ipython",
    "version": 3
   },
   "file_extension": ".py",
   "mimetype": "text/x-python",
   "name": "python",
   "nbconvert_exporter": "python",
   "pygments_lexer": "ipython3",
   "version": "3.11.5"
  }
 },
 "nbformat": 4,
 "nbformat_minor": 4
}
